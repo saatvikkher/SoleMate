{
 "cells": [
  {
   "cell_type": "code",
   "execution_count": 1,
   "id": "48b4aafa",
   "metadata": {},
   "outputs": [],
   "source": [
    "from sole import Sole\n",
    "from solepair import SolePair\n",
    "from solepaircompare import SolePairCompare\n",
    "import time\n",
    "import pandas as pd"
   ]
  },
  {
   "cell_type": "code",
   "execution_count": null,
   "id": "49e5ee8f",
   "metadata": {},
   "outputs": [],
   "source": [
    "# Maybe save CSVs at some point\n",
    "\n",
    "#Q.coords.to_csv(\"./Q/\" + Q.file_name[:-5] + \".csv\")\n",
    "#K.coords.to_csv(\"./K/\" + K.file_name[:-5] + \".csv\")\n",
    "#Q.aligned.to_csv(\"./Q_aligned/\" + Q.file_name[:-5] + \".csv\")"
   ]
  },
  {
   "cell_type": "code",
   "execution_count": 2,
   "id": "3bed66df",
   "metadata": {
    "scrolled": false
   },
   "outputs": [
    {
     "name": "stdout",
     "output_type": "stream",
     "text": [
      "Time for 2 Soles(): 0.33725500106811523\n",
      "Time for SolePair(): 3.600120544433594e-05\n",
      "Time for SolePairCompare(): 17.23109221458435\n",
      "Time for min_distance: 0.33588099479675293\n",
      "Time for 2 overlaps: 0.9855139255523682\n"
     ]
    }
   ],
   "source": [
    "t0 = time.time()\n",
    "Q = Sole(\"2DScanImages/001732L_20171031_2_1_1_csafe_bpbryson.tiff\", border_width=160)\n",
    "K = Sole(\"2DScanImages/001732L_20171031_2_1_2_csafe_bpbryson.tiff\", border_width=160)\n",
    "t1 = time.time()\n",
    "print(\"Time for 2 Soles(): \" + str(t1-t0))\n",
    "\n",
    "t0 = time.time()\n",
    "pair = SolePair(Q, K, mated=True)\n",
    "t1 = time.time()\n",
    "print(\"Time for SolePair(): \" + str(t1-t0))\n",
    "\n",
    "t0 = time.time()\n",
    "sc = SolePairCompare(pair) # icp is called here\n",
    "t1 = time.time()\n",
    "print(\"Time for SolePairCompare(): \" + str(t1-t0))\n",
    "#Q.coords.to_csv(\"./Q/\" + Q.file_name[:-5] + \".csv\")\n",
    "#K.coords.to_csv(\"./K/\" + K.file_name[:-5] + \".csv\")\n",
    "#Q.aligned.to_csv(\"./Q_aligned/\" + Q.file_name[:-5] + \".csv\")\n",
    "\n",
    "row = {'qID': Q.file_name[:-5], 'kID': K.file_name[:-5], 'mated': pair.mated}\n",
    "\n",
    "t0 = time.time()\n",
    "row.update(sc.min_dist())\n",
    "t1 = time.time()\n",
    "print(\"Time for min_distance: \" + str(t1-t0))\n",
    "\n",
    "t0 = time.time()\n",
    "row['q_pct'] = sc.percent_overlap(Q_as_base=True)\n",
    "row['k_pct'] = sc.percent_overlap(Q_as_base=False)\n",
    "t1 = time.time()\n",
    "print(\"Time for 2 overlaps: \" + str(t1-t0))\n"
   ]
  },
  {
   "cell_type": "code",
   "execution_count": 3,
   "id": "94aed927",
   "metadata": {},
   "outputs": [
    {
     "data": {
      "text/plain": [
       "{'qID': '001732L_20171031_2_1_1_csafe_bpbryson',\n",
       " 'kID': '001732L_20171031_2_1_2_csafe_bpbryson',\n",
       " 'mated': True,\n",
       " 'mean': 5.135553088835756,\n",
       " 'std': 10.967076375589,\n",
       " '0.1': 1.0509872989442544,\n",
       " '0.25': 1.8408517714759527,\n",
       " '0.5': 3.057040601574616,\n",
       " '0.75': 4.873904933544495,\n",
       " '0.9': 7.7343463727238015,\n",
       " 'kurtosis': 111.69322429493401,\n",
       " 'q_pct': 0.4931808452082441,\n",
       " 'k_pct': 0.495504991009982}"
      ]
     },
     "execution_count": 3,
     "metadata": {},
     "output_type": "execute_result"
    }
   ],
   "source": [
    "row"
   ]
  },
  {
   "cell_type": "code",
   "execution_count": 4,
   "id": "aa604f54",
   "metadata": {},
   "outputs": [
    {
     "name": "stdout",
     "output_type": "stream",
     "text": [
      "Time for 2 Soles(): 0.33068227767944336\n",
      "Time for SolePair(): 5.817413330078125e-05\n",
      "Time for SolePairCompare(): 2.037672758102417\n",
      "Time for min_distance: 0.33123207092285156\n",
      "Time for 2 overlaps: 0.9384660720825195\n"
     ]
    }
   ],
   "source": [
    "t0 = time.time()\n",
    "Q = Sole(\"2DScanImages/001732L_20171031_2_1_1_csafe_bpbryson.tiff\", border_width=160)\n",
    "K = Sole(\"2DScanImages/001732L_20171031_2_1_2_csafe_bpbryson.tiff\", border_width=160)\n",
    "t1 = time.time()\n",
    "print(\"Time for 2 Soles(): \" + str(t1-t0))\n",
    "\n",
    "t0 = time.time()\n",
    "pair = SolePair(Q, K, mated=True)\n",
    "t1 = time.time()\n",
    "print(\"Time for SolePair(): \" + str(t1-t0))\n",
    "\n",
    "t0 = time.time()\n",
    "sc = SolePairCompare(pair, icp_downsample_rate = 0.2) # icp is called here\n",
    "t1 = time.time()\n",
    "print(\"Time for SolePairCompare(): \" + str(t1-t0))\n",
    "\n",
    "row = {'qID': Q.file_name[:-5], 'kID': K.file_name[:-5], 'mated': pair.mated}\n",
    "\n",
    "t0 = time.time()\n",
    "row.update(sc.min_dist())\n",
    "t1 = time.time()\n",
    "print(\"Time for min_distance: \" + str(t1-t0))\n",
    "\n",
    "t0 = time.time()\n",
    "row['q_pct'] = sc.percent_overlap(Q_as_base=True)\n",
    "row['k_pct'] = sc.percent_overlap(Q_as_base=False)\n",
    "t1 = time.time()\n",
    "print(\"Time for 2 overlaps: \" + str(t1-t0))"
   ]
  },
  {
   "cell_type": "code",
   "execution_count": 5,
   "id": "7f8f434b",
   "metadata": {},
   "outputs": [
    {
     "data": {
      "text/plain": [
       "{'qID': '001732L_20171031_2_1_1_csafe_bpbryson',\n",
       " 'kID': '001732L_20171031_2_1_2_csafe_bpbryson',\n",
       " 'mated': True,\n",
       " 'mean': 5.04641447734552,\n",
       " 'std': 10.99855736996395,\n",
       " '0.1': 1.0097599978298832,\n",
       " '0.25': 1.7718834006401138,\n",
       " '0.5': 2.9593768838554024,\n",
       " '0.75': 4.763010779544768,\n",
       " '0.9': 7.627283274803821,\n",
       " 'kurtosis': 111.76027575706908,\n",
       " 'q_pct': 0.5116506635679775,\n",
       " 'k_pct': 0.5158410316820634}"
      ]
     },
     "execution_count": 5,
     "metadata": {},
     "output_type": "execute_result"
    }
   ],
   "source": [
    "row"
   ]
  },
  {
   "cell_type": "code",
   "execution_count": 7,
   "id": "3ef3c8f8",
   "metadata": {},
   "outputs": [],
   "source": [
    "knm = pd.read_csv(\"KNM_pairs.csv\")\n",
    "km = pd.read_csv(\"KM_pairs.csv\")"
   ]
  },
  {
   "cell_type": "code",
   "execution_count": 10,
   "id": "12259b9c",
   "metadata": {},
   "outputs": [
    {
     "data": {
      "text/html": [
       "<div>\n",
       "<style scoped>\n",
       "    .dataframe tbody tr th:only-of-type {\n",
       "        vertical-align: middle;\n",
       "    }\n",
       "\n",
       "    .dataframe tbody tr th {\n",
       "        vertical-align: top;\n",
       "    }\n",
       "\n",
       "    .dataframe thead th {\n",
       "        text-align: right;\n",
       "    }\n",
       "</style>\n",
       "<table border=\"1\" class=\"dataframe\">\n",
       "  <thead>\n",
       "    <tr style=\"text-align: right;\">\n",
       "      <th></th>\n",
       "      <th>Unnamed: 0</th>\n",
       "      <th>q</th>\n",
       "      <th>k</th>\n",
       "    </tr>\n",
       "  </thead>\n",
       "  <tbody>\n",
       "    <tr>\n",
       "      <th>0</th>\n",
       "      <td>0</td>\n",
       "      <td>001732L_20171031_2_1_1_csafe_bpbryson.tiff</td>\n",
       "      <td>001732L_20171031_2_1_2_csafe_bpbryson.tiff</td>\n",
       "    </tr>\n",
       "    <tr>\n",
       "      <th>1</th>\n",
       "      <td>1</td>\n",
       "      <td>001732L_20180418_2_2_2_csafe_jekruse.tiff</td>\n",
       "      <td>001732L_20180418_2_2_1_csafe_jekruse.tiff</td>\n",
       "    </tr>\n",
       "    <tr>\n",
       "      <th>2</th>\n",
       "      <td>2</td>\n",
       "      <td>001351R_20180124_2_1_1_csafe_jekruse.tiff</td>\n",
       "      <td>001351R_20180124_2_1_2_csafe_jekruse.tiff</td>\n",
       "    </tr>\n",
       "    <tr>\n",
       "      <th>3</th>\n",
       "      <td>3</td>\n",
       "      <td>001732L_20171031_2_2_2_csafe_bpbryson.tiff</td>\n",
       "      <td>001732L_20171031_2_2_1_csafe_bpbryson.tiff</td>\n",
       "    </tr>\n",
       "    <tr>\n",
       "      <th>4</th>\n",
       "      <td>4</td>\n",
       "      <td>001732L_20180228_2_1_1_csafe_jekruse.tiff</td>\n",
       "      <td>001732L_20180228_2_1_2_csafe_jekruse.tiff</td>\n",
       "    </tr>\n",
       "    <tr>\n",
       "      <th>...</th>\n",
       "      <td>...</td>\n",
       "      <td>...</td>\n",
       "      <td>...</td>\n",
       "    </tr>\n",
       "    <tr>\n",
       "      <th>2402</th>\n",
       "      <td>2402</td>\n",
       "      <td>160138R_20180113_2_1_1_Silerio-Kruse.tiff</td>\n",
       "      <td>160138R_20180113_2_1_2_Silerio.tiff</td>\n",
       "    </tr>\n",
       "    <tr>\n",
       "      <th>2403</th>\n",
       "      <td>2403</td>\n",
       "      <td>160197L_20180221_2_1_1_csafe_dtmartin.tiff</td>\n",
       "      <td>160197L_20180221_2_1_2_csafe_dtmartin.tiff</td>\n",
       "    </tr>\n",
       "    <tr>\n",
       "      <th>2404</th>\n",
       "      <td>2404</td>\n",
       "      <td>160197L_20180502_2_2_2_jekruse.tiff</td>\n",
       "      <td>160197L_20180502_2_2_1_jekruse.tiff</td>\n",
       "    </tr>\n",
       "    <tr>\n",
       "      <th>2405</th>\n",
       "      <td>2405</td>\n",
       "      <td>160197L_20180409_2_2_1_csafe_bpbryson.tiff</td>\n",
       "      <td>160197L_20180409_2_2_2_csafe_bpbryson.tiff</td>\n",
       "    </tr>\n",
       "    <tr>\n",
       "      <th>2406</th>\n",
       "      <td>2406</td>\n",
       "      <td>160138R_20180502_2_2_1_jekruse.tiff</td>\n",
       "      <td>160138R_20180502_2_2_2_jekruse.tiff</td>\n",
       "    </tr>\n",
       "  </tbody>\n",
       "</table>\n",
       "<p>2407 rows × 3 columns</p>\n",
       "</div>"
      ],
      "text/plain": [
       "      Unnamed: 0                                           q  \\\n",
       "0              0  001732L_20171031_2_1_1_csafe_bpbryson.tiff   \n",
       "1              1   001732L_20180418_2_2_2_csafe_jekruse.tiff   \n",
       "2              2   001351R_20180124_2_1_1_csafe_jekruse.tiff   \n",
       "3              3  001732L_20171031_2_2_2_csafe_bpbryson.tiff   \n",
       "4              4   001732L_20180228_2_1_1_csafe_jekruse.tiff   \n",
       "...          ...                                         ...   \n",
       "2402        2402   160138R_20180113_2_1_1_Silerio-Kruse.tiff   \n",
       "2403        2403  160197L_20180221_2_1_1_csafe_dtmartin.tiff   \n",
       "2404        2404         160197L_20180502_2_2_2_jekruse.tiff   \n",
       "2405        2405  160197L_20180409_2_2_1_csafe_bpbryson.tiff   \n",
       "2406        2406         160138R_20180502_2_2_1_jekruse.tiff   \n",
       "\n",
       "                                               k  \n",
       "0     001732L_20171031_2_1_2_csafe_bpbryson.tiff  \n",
       "1      001732L_20180418_2_2_1_csafe_jekruse.tiff  \n",
       "2      001351R_20180124_2_1_2_csafe_jekruse.tiff  \n",
       "3     001732L_20171031_2_2_1_csafe_bpbryson.tiff  \n",
       "4      001732L_20180228_2_1_2_csafe_jekruse.tiff  \n",
       "...                                          ...  \n",
       "2402         160138R_20180113_2_1_2_Silerio.tiff  \n",
       "2403  160197L_20180221_2_1_2_csafe_dtmartin.tiff  \n",
       "2404         160197L_20180502_2_2_1_jekruse.tiff  \n",
       "2405  160197L_20180409_2_2_2_csafe_bpbryson.tiff  \n",
       "2406         160138R_20180502_2_2_2_jekruse.tiff  \n",
       "\n",
       "[2407 rows x 3 columns]"
      ]
     },
     "execution_count": 10,
     "metadata": {},
     "output_type": "execute_result"
    }
   ],
   "source": [
    "km"
   ]
  }
 ],
 "metadata": {
  "kernelspec": {
   "display_name": "Python 3 (ipykernel)",
   "language": "python",
   "name": "python3"
  },
  "language_info": {
   "codemirror_mode": {
    "name": "ipython",
    "version": 3
   },
   "file_extension": ".py",
   "mimetype": "text/x-python",
   "name": "python",
   "nbconvert_exporter": "python",
   "pygments_lexer": "ipython3",
   "version": "3.11.3"
  }
 },
 "nbformat": 4,
 "nbformat_minor": 5
}
